{
  "nbformat": 4,
  "nbformat_minor": 0,
  "metadata": {
    "colab": {
      "provenance": [],
      "authorship_tag": "ABX9TyNWE4EOg1fNVf52B2AuuC1R",
      "include_colab_link": true
    },
    "kernelspec": {
      "name": "python3",
      "display_name": "Python 3"
    },
    "language_info": {
      "name": "python"
    }
  },
  "cells": [
    {
      "cell_type": "markdown",
      "metadata": {
        "id": "view-in-github",
        "colab_type": "text"
      },
      "source": [
        "<a href=\"https://colab.research.google.com/github/238w1a0281-glitch/basic-python/blob/main/training_17_sep.ipynb\" target=\"_parent\"><img src=\"https://colab.research.google.com/assets/colab-badge.svg\" alt=\"Open In Colab\"/></a>"
      ]
    },
    {
      "cell_type": "code",
      "source": [
        "#print name\n",
        "print(\"sathish\")"
      ],
      "metadata": {
        "colab": {
          "base_uri": "https://localhost:8080/"
        },
        "id": "1JKQkj3aztKv",
        "outputId": "f006a0a5-22b9-4c49-8411-d5e9b3ae67b5"
      },
      "execution_count": null,
      "outputs": [
        {
          "output_type": "stream",
          "name": "stdout",
          "text": [
            "sathish\n"
          ]
        }
      ]
    },
    {
      "cell_type": "code",
      "source": [
        "#using input fun\n",
        "s=input(\"enter your name\")\n",
        "print(s)"
      ],
      "metadata": {
        "id": "7CFiakKI1ZnY",
        "colab": {
          "base_uri": "https://localhost:8080/"
        },
        "outputId": "8fba468b-e7f1-4b6b-83ea-e4440d0e7668"
      },
      "execution_count": null,
      "outputs": [
        {
          "output_type": "stream",
          "name": "stdout",
          "text": [
            "enter your namesathish\n",
            "sathish\n"
          ]
        }
      ]
    },
    {
      "cell_type": "code",
      "source": [
        "#print full name\n",
        "a=input(\"enter the first name\")\n",
        "b=input(\"enter the second name\")\n",
        "c=a+b\n",
        "print(c)"
      ],
      "metadata": {
        "id": "gj08R3ah11Tn",
        "colab": {
          "base_uri": "https://localhost:8080/"
        },
        "outputId": "0f7003ba-a60e-480c-b203-d0ad78c30606"
      },
      "execution_count": null,
      "outputs": [
        {
          "output_type": "stream",
          "name": "stdout",
          "text": [
            "enter the first namesathish\n",
            "enter the second name k\n",
            "sathish k\n"
          ]
        }
      ]
    },
    {
      "cell_type": "code",
      "source": [
        "#sum of two numbers\n",
        "a=int(input(\"enter the first number\"))\n",
        "b=int(input(\"enter the second number\"))\n",
        "c=a+b\n",
        "c\n"
      ],
      "metadata": {
        "colab": {
          "base_uri": "https://localhost:8080/"
        },
        "id": "iMzS7KsZ21hq",
        "outputId": "a59b6315-829d-4da8-986b-a386d701f293"
      },
      "execution_count": null,
      "outputs": [
        {
          "name": "stdout",
          "output_type": "stream",
          "text": [
            "enter the first number5\n",
            "enter the second number6\n"
          ]
        },
        {
          "output_type": "execute_result",
          "data": {
            "text/plain": [
              "11"
            ]
          },
          "metadata": {},
          "execution_count": 4
        }
      ]
    },
    {
      "cell_type": "code",
      "source": [
        "#swap two numbers without 3rd variable\n",
        "a=int(input(\"enter the first number\"))\n",
        "b=int(input(\"enter the second number\"))\n",
        "a=a+b\n",
        "b=a-b\n",
        "a=a-b\n",
        "print(a,b)"
      ],
      "metadata": {
        "colab": {
          "base_uri": "https://localhost:8080/"
        },
        "id": "X-f-DgnH3MDZ",
        "outputId": "d42d698e-c162-41c2-e4b9-ea3c1bcd8779"
      },
      "execution_count": null,
      "outputs": [
        {
          "output_type": "stream",
          "name": "stdout",
          "text": [
            "enter the first number12\n",
            "enter the second number13\n",
            "13 12\n"
          ]
        }
      ]
    },
    {
      "cell_type": "code",
      "source": [
        "#to print primitive datatypes\n",
        "a=5\n",
        "b=1.4\n",
        "c=True\n",
        "print(type(a))\n",
        "print(type(b))\n",
        "print(type(c))"
      ],
      "metadata": {
        "colab": {
          "base_uri": "https://localhost:8080/"
        },
        "id": "s58GOC3w4PwZ",
        "outputId": "34c0b453-a7cf-44c5-e0cc-d56098dbdcdb"
      },
      "execution_count": null,
      "outputs": [
        {
          "output_type": "stream",
          "name": "stdout",
          "text": [
            "<class 'int'>\n",
            "<class 'float'>\n",
            "<class 'bool'>\n"
          ]
        }
      ]
    },
    {
      "cell_type": "code",
      "source": [
        "#to print non-primitive datatypes\n",
        "a=(1,2,3)\n",
        "b=[1,2,3]\n",
        "c={1,2,3,4,5}\n",
        "d={1:\"a\",2:\"b\"}\n",
        "print(type(a))\n",
        "print(type(b))\n",
        "print(type(c))\n",
        "print(type(d))"
      ],
      "metadata": {
        "colab": {
          "base_uri": "https://localhost:8080/"
        },
        "id": "99aSqDpE5sJG",
        "outputId": "f1481693-6997-4a53-f0e9-82bc40e8e4bb"
      },
      "execution_count": null,
      "outputs": [
        {
          "output_type": "stream",
          "name": "stdout",
          "text": [
            "<class 'tuple'>\n",
            "<class 'list'>\n",
            "<class 'set'>\n",
            "<class 'dict'>\n"
          ]
        }
      ]
    },
    {
      "cell_type": "code",
      "source": [
        "a=int(input(\"enter the number\"))\n",
        "print(a**2)"
      ],
      "metadata": {
        "colab": {
          "base_uri": "https://localhost:8080/"
        },
        "id": "5Xqfu03v6KcM",
        "outputId": "157f7ae4-de88-490f-fe80-79f7d3f2c5ca"
      },
      "execution_count": null,
      "outputs": [
        {
          "output_type": "stream",
          "name": "stdout",
          "text": [
            "enter the number5\n",
            "25\n"
          ]
        }
      ]
    },
    {
      "cell_type": "code",
      "source": [
        "a=int(input(\"enter the first number\"))\n",
        "b=int(input(\"enter the second number\"))\n",
        "c=int(input(\"enter the third number\"))\n",
        "print((a+b+c)//3)"
      ],
      "metadata": {
        "colab": {
          "base_uri": "https://localhost:8080/"
        },
        "id": "V9OKDYfr6bjK",
        "outputId": "8ea07750-68ff-4ad3-ba8c-d76dfdabb091"
      },
      "execution_count": null,
      "outputs": [
        {
          "output_type": "stream",
          "name": "stdout",
          "text": [
            "enter the first number3\n",
            "enter the second number3\n",
            "enter the third number3\n",
            "3\n"
          ]
        }
      ]
    },
    {
      "cell_type": "code",
      "source": [
        "def tiffen_items():\n",
        "  print(\"Welcome to Tiffen Section \\nWhat type of Tiffen you want like \\n1.Dosa \\n 2.Idly \\n 3.Puri \\n 4.Bajji\")\n",
        "  a=int(input(\"Enter the Tiffen you would like in (1-4)\"))\n",
        "  if a==1:\n",
        "    price=25\n",
        "  elif a==2:\n",
        "    price=\n",
        "  b=int(input(\"Enter the quantity you would like\"))\n",
        "  bill=b*25\n",
        "  print(\"Your bill is\",bill)\n"
      ],
      "metadata": {
        "id": "meVG-BkX65L4"
      },
      "execution_count": 4,
      "outputs": []
    },
    {
      "cell_type": "code",
      "source": [],
      "metadata": {
        "id": "0mNVSH_1G_Oh"
      },
      "execution_count": null,
      "outputs": []
    }
  ]
}