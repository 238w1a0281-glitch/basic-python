{
  "nbformat": 4,
  "nbformat_minor": 0,
  "metadata": {
    "colab": {
      "provenance": [],
      "authorship_tag": "ABX9TyP1uxIGNIySQdBR/0nAE5cJ",
      "include_colab_link": true
    },
    "kernelspec": {
      "name": "python3",
      "display_name": "Python 3"
    },
    "language_info": {
      "name": "python"
    }
  },
  "cells": [
    {
      "cell_type": "markdown",
      "metadata": {
        "id": "view-in-github",
        "colab_type": "text"
      },
      "source": [
        "<a href=\"https://colab.research.google.com/github/sathishkumar081/python/blob/main/corporate_programs.ipynb\" target=\"_parent\"><img src=\"https://colab.research.google.com/assets/colab-badge.svg\" alt=\"Open In Colab\"/></a>"
      ]
    },
    {
      "cell_type": "code",
      "execution_count": null,
      "metadata": {
        "id": "mQVZNI11QWqH"
      },
      "outputs": [],
      "source": []
    },
    {
      "cell_type": "markdown",
      "source": [
        "somof cubes\n",
        "pro allint m>n -1\n",
        "pro all odd in m>n 0\n",
        "pro  alleven\n",
        "sum of factr\n"
      ],
      "metadata": {
        "id": "_MXilrojRZtH"
      }
    },
    {
      "cell_type": "code",
      "source": [
        "while True:\n",
        "  m=int(input(\"Enter the value of m\"))\n",
        "  if m==0:\n",
        "    break\n",
        "  else:\n",
        "    n=int(input(\"Enter the value of n\"))\n",
        "    sum=0\n",
        "    if m>n:\n",
        "      for i in range(m,n+1,-1):\n",
        "        sum+=i**3\n",
        "    else:\n",
        "\n",
        "      print(\"m should be greater than n\")\n",
        "  print(sum)"
      ],
      "metadata": {
        "colab": {
          "base_uri": "https://localhost:8080/"
        },
        "id": "WK1QDhhUR2Fm",
        "outputId": "8815a730-faea-471a-898d-13afe2ff95e7"
      },
      "execution_count": 25,
      "outputs": [
        {
          "name": "stdout",
          "output_type": "stream",
          "text": [
            "Enter the value of m8\n",
            "Enter the value of n3\n",
            "1196\n",
            "Enter the value of m0\n"
          ]
        }
      ]
    },
    {
      "cell_type": "code",
      "source": [],
      "metadata": {
        "id": "rbqYX03YS9xu"
      },
      "execution_count": 22,
      "outputs": []
    },
    {
      "cell_type": "code",
      "source": [],
      "metadata": {
        "id": "yDMKgnnpVM5M"
      },
      "execution_count": null,
      "outputs": []
    }
  ]
}