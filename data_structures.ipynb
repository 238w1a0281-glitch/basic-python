{
  "nbformat": 4,
  "nbformat_minor": 0,
  "metadata": {
    "colab": {
      "provenance": [],
      "authorship_tag": "ABX9TyM7NRdq7ltqxy18AV0GmflN",
      "include_colab_link": true
    },
    "kernelspec": {
      "name": "python3",
      "display_name": "Python 3"
    },
    "language_info": {
      "name": "python"
    }
  },
  "cells": [
    {
      "cell_type": "markdown",
      "metadata": {
        "id": "view-in-github",
        "colab_type": "text"
      },
      "source": [
        "<a href=\"https://colab.research.google.com/github/sathishkumar081/basic-python/blob/main/data_structures.ipynb\" target=\"_parent\"><img src=\"https://colab.research.google.com/assets/colab-badge.svg\" alt=\"Open In Colab\"/></a>"
      ]
    },
    {
      "cell_type": "code",
      "execution_count": 16,
      "metadata": {
        "colab": {
          "base_uri": "https://localhost:8080/"
        },
        "id": "NlpfcJ-oGk2Y",
        "outputId": "8883079c-48a1-489a-a22b-058f337cf506"
      },
      "outputs": [
        {
          "output_type": "stream",
          "name": "stdout",
          "text": [
            "Enter the array1 2 3\n",
            "Enter the target element 3\n",
            "Element 3 found at index 2\n"
          ]
        }
      ],
      "source": [
        "def binary_search(arr, target):\n",
        "    low= 0\n",
        "    high =len(arr) - 1\n",
        "\n",
        "    while low <= high:\n",
        "        mid = (low + high) // 2\n",
        "        if arr[mid] == target:\n",
        "            return mid\n",
        "        elif arr[mid] < target:\n",
        "            low = mid + 1\n",
        "        else:\n",
        "            high = mid - 1\n",
        "\n",
        "    return -1\n",
        "sorted_list = input(\"Enter the array\").split(\" \")\n",
        "for i in range(len(sorted_list)):\n",
        "    sorted_list[i] = int(sorted_list[i])\n",
        "sorted_list.sort()\n",
        "target_element = int(input(\"Enter the target element \"))\n",
        "index = binary_search(sorted_list, target_element)\n",
        "\n",
        "if index != -1:\n",
        "    print(f\"Element {target_element} found at index {index}\")\n",
        "else:\n",
        "    print(f\"Element {target_element} not found in the list\")"
      ]
    },
    {
      "cell_type": "code",
      "source": [],
      "metadata": {
        "id": "lUN1gv5BG_ak"
      },
      "execution_count": 8,
      "outputs": []
    }
  ]
}